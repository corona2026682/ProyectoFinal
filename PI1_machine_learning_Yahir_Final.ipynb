{
 "cells": [
  {
   "cell_type": "code",
   "execution_count": null,
   "metadata": {},
   "outputs": [],
   "source": [
    "import pandas as pd\n",
    "from sklearn.feature_extraction.text import TfidfVectorizer # se utiliza para convertir una colección de documentos de texto en una representación numérica vectorizada utilizando el esquema de ponderación TF-IDF\n",
    "from sklearn.metrics.pairwise import linear_kernel # se utiliza para calcular el producto escalar entre dos matrices de características. Este cálculo es útil para medir la similitud entre pares vectores de características.\n",
    "\n",
    "# Cargar el dataset en un DataFrame, se divide en dos partes para poder subirlo a GitHub\n",
    "# Parte1\n",
    "parte1 = pd.read_csv('data_preparada_movies_parte1.csv')\n",
    "# Parte2\n",
    "parte2 = pd.read_csv('data_preparada_movies_parte2.csv')\n",
    "# Concatenar las partes del dataframe\n",
    "data = pd.concat([parte1, parte2], ignore_index=True)\n",
    "# Seleccionar las columnas a utilizar\n",
    "data = data[[\"title\", \"vote_average\", \"name_genres\"]]\n",
    "\n",
    "# Preprocesamiento de datos\n",
    "# Convertir los valores de la columna 'name_genres' en cadenas de texto\n",
    "data['name_genres'] = data['name_genres'].apply(lambda x: ' '.join(eval(x)))\n",
    "\n",
    "# Crear una matriz TF-IDF para el texto del título de las películas\n",
    "stopwords_custom = [\"the\", \"and\", \"in\", \"of\"]  # Agrega aquí stopwords personalizados\n",
    "tfidf = TfidfVectorizer(stop_words=stopwords_custom)\n",
    "tfidf_matrix = tfidf.fit_transform(data['title'])\n",
    "\n",
    "# Calcular la similitud del coseno entre los títulos de las películas\n",
    "cosine_similarities = linear_kernel(tfidf_matrix, tfidf_matrix)\n",
    "\n",
    "def recomendacion(titulo):\n",
    "    # Verificar si el título está en el DataFrame\n",
    "    if titulo not in data['title'].values:\n",
    "        return f\"No se encontró ninguna película con el título '{titulo}'.\"\n",
    "\n",
    "    # Encontrar el índice de la película con el título dado\n",
    "    indices = pd.Series(data.index, index=data['title']).drop_duplicates()\n",
    "    idx = indices[titulo]\n",
    "\n",
    "    # Calcular las puntuaciones de similitud de todas las películas con la película dada\n",
    "    sim_scores = list(enumerate(cosine_similarities[idx]))\n",
    "\n",
    "    # Ordenar las películas por puntaje de similitud en orden descendente\n",
    "    sim_scores = sorted(sim_scores, key=lambda x: x[1], reverse=True)\n",
    "\n",
    "    # Obtener los índices de las películas más similares (excluyendo la película dada)\n",
    "    sim_scores = sim_scores[1:6]  # Obtener las 5 películas más similares\n",
    "    movie_indices = [x[0] for x in sim_scores]\n",
    "\n",
    "    # Devolver los títulos de las películas más similares\n",
    "    respuesta_recomendacion = data['title'].iloc[movie_indices].tolist()\n",
    "    return {'lista recomendada': respuesta_recomendacion}\n"
   ]
  },
  {
   "cell_type": "code",
   "execution_count": 14,
   "metadata": {},
   "outputs": [
    {
     "data": {
      "text/plain": [
       "{'lista recomendada': ['The Matrix Revisited',\n",
       "  'The Matrix Reloaded',\n",
       "  'The Matrix Revolutions',\n",
       "  'Armitage: Dual Matrix',\n",
       "  'Return to Source: The Philosophy of The Matrix']}"
      ]
     },
     "execution_count": 14,
     "metadata": {},
     "output_type": "execute_result"
    }
   ],
   "source": [
    "recomendacion(\"The Matrix\")"
   ]
  }
 ],
 "metadata": {
  "kernelspec": {
   "display_name": "Python 3",
   "language": "python",
   "name": "python3"
  },
  "language_info": {
   "codemirror_mode": {
    "name": "ipython",
    "version": 3
   },
   "file_extension": ".py",
   "mimetype": "text/x-python",
   "name": "python",
   "nbconvert_exporter": "python",
   "pygments_lexer": "ipython3",
   "version": "3.11.1"
  },
  "orig_nbformat": 4
 },
 "nbformat": 4,
 "nbformat_minor": 2
}
